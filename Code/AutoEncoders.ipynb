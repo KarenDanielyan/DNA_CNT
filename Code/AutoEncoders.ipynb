{
 "cells": [
  {
   "cell_type": "markdown",
   "metadata": {},
   "source": [
    "## Autoencoders"
   ]
  },
  {
   "cell_type": "code",
   "execution_count": 1,
   "metadata": {},
   "outputs": [],
   "source": [
    "# Imports\n",
    "from vectorization import term_freq_vectorizer\n",
    "\n",
    "# Main Libraries\n",
    "import numpy as np\n",
    "import pandas as pd\n",
    "import os, time, re\n",
    "import pickle, gzip\n",
    "\n",
    "# Data Visualization Libraries\n",
    "import matplotlib.pyplot as plt\n",
    "import seaborn as sns\n",
    "color = sns.color_palette()\n",
    "import matplotlib as mpl\n",
    "\n",
    "# Data Preprocessing and Score Libraries\n",
    "from sklearn import preprocessing as pre\n",
    "from sklearn.model_selection import train_test_split\n",
    "from sklearn.model_selection import StratifiedKFold\n",
    "from sklearn.metrics import log_loss\n",
    "from sklearn.metrics import precision_recall_curve, \\\n",
    "    average_precision_score\n",
    "from sklearn.metrics import roc_curve, auc, roc_auc_score\n",
    "\n",
    "\n",
    "# Gradient Boosting\n",
    "import lightgbm as lgb\n",
    "\n",
    "# TF and Keras\n",
    "import tensorflow as tf\n",
    "import keras\n",
    "from keras import backend as К\n",
    "from keras.models import Sequential, Model\n",
    "from keras.layers import Activation, Dense, Dropout\n",
    "from keras.layers import BatchNormalization, Input, Lambda\n",
    "from keras import regularizers\n",
    "from keras.losses import mse, binary_crossentropy "
   ]
  },
  {
   "cell_type": "code",
   "execution_count": 3,
   "metadata": {},
   "outputs": [],
   "source": [
    "# Functions\n",
    "\n",
    "# Get integers from chirality string\n",
    "def toInt(chirality_string):\n",
    "    buff = re.split(r\"[();]\",chirality_string)\n",
    "    return [int(buff[1]),int(buff[2])]\n",
    "\n",
    "# Get the chirality from the list of chirality strings\n",
    "def getChirality(chirality_list):\n",
    "    return np.array([toInt(i) for i in chirality_list])\n",
    "\n",
    "# Anomaly Scores\n",
    "def anomalyScores(originalDF, reducedDF):\n",
    "    loss = np.sum((np.array(originalDF) - np.array(reducedDF))**2, \\\n",
    "                 axis=1)\n",
    "    loss = pd.Series(data=loss, index=originalDF.index)\n",
    "    loss = (loss - np.min(loss)) / (np.max(loss) - np.min(loss))\n",
    "    return loss\n",
    "\n",
    "# Plot Results\n",
    "def plotResults(trueLabels, anomalyScores, returnPreds = False):\n",
    "    preds = pd.concat([trueLabels, anomalyScores], axis=1)\n",
    "    preds.columns = ['trueLabels', 'anomalyScore']\n",
    "    precision, recall, thresholds = \\\n",
    "        precision_recall_curve(preds['trueLabels'], \\\n",
    "                                preds['anomalyScore'])\n",
    "    average_precision = average_precision_score(preds['trueLabels'], \\\n",
    "        preds['anomalyScore'])\n",
    "\n",
    "    plt.step(recall, precision, color='k', alpha=0.7, where='post')\n",
    "    plt.fill_between(recall, precision, step='post', alpha=0.3, \\\n",
    "                        color='k')\n",
    "    plt.xlabel('Полнота')\n",
    "    plt.ylabel('Точность')\n",
    "    plt.ylim([0.0, 1.05])\n",
    "    plt.xlim([0.0, 1.0])\n",
    "\n",
    "    plt.title('Kpивaя \"точность - полнота\": средняя точность \\\n",
    "                {0:0.2f}' .format(average_precision))\n",
    "\n",
    "    fpr, tpr, thresholds = roc_curve(preds['trueLabels'], \\\n",
    "                                     preds['anomalyScore'])\n",
    "    \n",
    "    areaUnderROC = auc(fpr,tpr)\n",
    "\n",
    "    plt.figure()\n",
    "    plt.plot(fpr, tpr, color='r', lw=2, label='ROC кривая')\n",
    "    plt.plot([0, 1], [0, 1], color = 'k', lw=2, linestyle='--')\n",
    "    plt.xlim([0.0, 1.0])\n",
    "    plt.ylim([0.0, 1.05])\n",
    "    plt.xlabel('Доля ложноположительных исходов')\n",
    "    plt.ylabel('Доля истинноположительных исходов')\n",
    "    plt.title('     Рабочая характеристика приемника: \\n \\\n",
    "                Площадь под кривой ROC = {0:0.2f}' .format(areaUnderROC))\n",
    "    plt.legend(loc='lower right')\n",
    "    plt.show()\n",
    "\n",
    "    if returnPreds == True:\n",
    "        return preds\n"
   ]
  },
  {
   "cell_type": "code",
   "execution_count": 24,
   "metadata": {},
   "outputs": [
    {
     "name": "stdout",
     "output_type": "stream",
     "text": [
      "C:\\Users\\User\\Desktop\\DNA_CNT\n"
     ]
    },
    {
     "data": {
      "text/html": [
       "<div>\n",
       "<style scoped>\n",
       "    .dataframe tbody tr th:only-of-type {\n",
       "        vertical-align: middle;\n",
       "    }\n",
       "\n",
       "    .dataframe tbody tr th {\n",
       "        vertical-align: top;\n",
       "    }\n",
       "\n",
       "    .dataframe thead th {\n",
       "        text-align: right;\n",
       "    }\n",
       "</style>\n",
       "<table border=\"1\" class=\"dataframe\">\n",
       "  <thead>\n",
       "    <tr style=\"text-align: right;\">\n",
       "      <th></th>\n",
       "      <th>c</th>\n",
       "      <th>cc</th>\n",
       "      <th>ccc</th>\n",
       "      <th>cct</th>\n",
       "      <th>ct</th>\n",
       "      <th>ctc</th>\n",
       "      <th>ctt</th>\n",
       "      <th>t</th>\n",
       "      <th>tc</th>\n",
       "      <th>tcc</th>\n",
       "      <th>tct</th>\n",
       "      <th>tt</th>\n",
       "      <th>ttc</th>\n",
       "      <th>ttt</th>\n",
       "      <th>m</th>\n",
       "      <th>n</th>\n",
       "    </tr>\n",
       "  </thead>\n",
       "  <tbody>\n",
       "    <tr>\n",
       "      <th>0</th>\n",
       "      <td>0.371174</td>\n",
       "      <td>0.085089</td>\n",
       "      <td>0.0</td>\n",
       "      <td>0.09028</td>\n",
       "      <td>0.31172</td>\n",
       "      <td>0.371297</td>\n",
       "      <td>0.0</td>\n",
       "      <td>0.519644</td>\n",
       "      <td>0.302763</td>\n",
       "      <td>0.088509</td>\n",
       "      <td>0.418401</td>\n",
       "      <td>0.195654</td>\n",
       "      <td>0.099841</td>\n",
       "      <td>0.137737</td>\n",
       "      <td>10</td>\n",
       "      <td>2</td>\n",
       "    </tr>\n",
       "    <tr>\n",
       "      <th>1</th>\n",
       "      <td>0.371174</td>\n",
       "      <td>0.085089</td>\n",
       "      <td>0.0</td>\n",
       "      <td>0.09028</td>\n",
       "      <td>0.31172</td>\n",
       "      <td>0.371297</td>\n",
       "      <td>0.0</td>\n",
       "      <td>0.519644</td>\n",
       "      <td>0.302763</td>\n",
       "      <td>0.088509</td>\n",
       "      <td>0.418401</td>\n",
       "      <td>0.195654</td>\n",
       "      <td>0.099841</td>\n",
       "      <td>0.137737</td>\n",
       "      <td>10</td>\n",
       "      <td>3</td>\n",
       "    </tr>\n",
       "    <tr>\n",
       "      <th>2</th>\n",
       "      <td>0.371174</td>\n",
       "      <td>0.085089</td>\n",
       "      <td>0.0</td>\n",
       "      <td>0.09028</td>\n",
       "      <td>0.31172</td>\n",
       "      <td>0.371297</td>\n",
       "      <td>0.0</td>\n",
       "      <td>0.519644</td>\n",
       "      <td>0.302763</td>\n",
       "      <td>0.088509</td>\n",
       "      <td>0.418401</td>\n",
       "      <td>0.195654</td>\n",
       "      <td>0.099841</td>\n",
       "      <td>0.137737</td>\n",
       "      <td>11</td>\n",
       "      <td>1</td>\n",
       "    </tr>\n",
       "    <tr>\n",
       "      <th>3</th>\n",
       "      <td>0.371174</td>\n",
       "      <td>0.085089</td>\n",
       "      <td>0.0</td>\n",
       "      <td>0.09028</td>\n",
       "      <td>0.31172</td>\n",
       "      <td>0.371297</td>\n",
       "      <td>0.0</td>\n",
       "      <td>0.519644</td>\n",
       "      <td>0.302763</td>\n",
       "      <td>0.088509</td>\n",
       "      <td>0.418401</td>\n",
       "      <td>0.195654</td>\n",
       "      <td>0.099841</td>\n",
       "      <td>0.137737</td>\n",
       "      <td>8</td>\n",
       "      <td>5</td>\n",
       "    </tr>\n",
       "    <tr>\n",
       "      <th>4</th>\n",
       "      <td>0.371174</td>\n",
       "      <td>0.085089</td>\n",
       "      <td>0.0</td>\n",
       "      <td>0.09028</td>\n",
       "      <td>0.31172</td>\n",
       "      <td>0.371297</td>\n",
       "      <td>0.0</td>\n",
       "      <td>0.519644</td>\n",
       "      <td>0.302763</td>\n",
       "      <td>0.088509</td>\n",
       "      <td>0.418401</td>\n",
       "      <td>0.195654</td>\n",
       "      <td>0.099841</td>\n",
       "      <td>0.137737</td>\n",
       "      <td>9</td>\n",
       "      <td>6</td>\n",
       "    </tr>\n",
       "  </tbody>\n",
       "</table>\n",
       "</div>"
      ],
      "text/plain": [
       "          c        cc  ccc      cct       ct       ctc  ctt         t  \\\n",
       "0  0.371174  0.085089  0.0  0.09028  0.31172  0.371297  0.0  0.519644   \n",
       "1  0.371174  0.085089  0.0  0.09028  0.31172  0.371297  0.0  0.519644   \n",
       "2  0.371174  0.085089  0.0  0.09028  0.31172  0.371297  0.0  0.519644   \n",
       "3  0.371174  0.085089  0.0  0.09028  0.31172  0.371297  0.0  0.519644   \n",
       "4  0.371174  0.085089  0.0  0.09028  0.31172  0.371297  0.0  0.519644   \n",
       "\n",
       "         tc       tcc       tct        tt       ttc       ttt   m  n  \n",
       "0  0.302763  0.088509  0.418401  0.195654  0.099841  0.137737  10  2  \n",
       "1  0.302763  0.088509  0.418401  0.195654  0.099841  0.137737  10  3  \n",
       "2  0.302763  0.088509  0.418401  0.195654  0.099841  0.137737  11  1  \n",
       "3  0.302763  0.088509  0.418401  0.195654  0.099841  0.137737   8  5  \n",
       "4  0.302763  0.088509  0.418401  0.195654  0.099841  0.137737   9  6  "
      ]
     },
     "execution_count": 24,
     "metadata": {},
     "output_type": "execute_result"
    }
   ],
   "source": [
    "# Data Import and TFidf\n",
    "os.chdir(\"C:/Users/User/Desktop/DNA_CNT/\")\n",
    "current_path = os.getcwd()\n",
    "print(current_path)\n",
    "file  = os.path.sep.join(['', 'data', \\\n",
    "                                'training_set.csv'])\n",
    "\n",
    "\n",
    "data = pd.read_csv(current_path + file)\n",
    "\n",
    "\n",
    "# Change 'N' and 'Y' to 0 and 1\n",
    "data['Label'] = data['Label'].apply(lambda x: 1 if x == 'Y' else 0)\n",
    "# Preprocess the data\n",
    "# Chirality\n",
    "chirality = getChirality(data['Chirality'])\n",
    "chirality = pd.DataFrame(chirality, columns=['m','n'])\n",
    "\n",
    "\n",
    "# Transform\n",
    "dataX = term_freq_vectorizer.transform(data['Sequence'])\n",
    "dataX = pd.DataFrame(dataX.toarray(), columns=term_freq_vectorizer.get_feature_names_out())\n",
    "\n",
    "dataY = data['Label']\n",
    "\n",
    "\"\"\" # PCA\n",
    "featuresToScale = dataX.columns\n",
    "sX = pre.StandardScaler(copy=True, with_mean=True,\n",
    "                                   with_std=True)\n",
    "dataX.loc[:, featuresToScale] = \\\n",
    "            sX.fit_transform(dataX[featuresToScale])\n",
    "\"\"\"\n",
    "# Merge the dataframes\n",
    "dataX = pd.concat([dataX,chirality],axis=1)\n",
    "\n",
    "# Split the data\n",
    "X_train, X_test, y_train, y_test = \\\n",
    "    train_test_split(dataX, dataY, test_size = 0.33, \\\n",
    "                    random_state = 2021, stratify=dataY)\n",
    "\n",
    "X_train_AE = X_train.copy()\n",
    "X_test_AE = X_test.copy()\n",
    "\n",
    "dataX.head()"
   ]
  },
  {
   "cell_type": "markdown",
   "metadata": {},
   "source": [
    "### Model No.1 - 2-layer autoencoder with Linear activation"
   ]
  },
  {
   "cell_type": "code",
   "execution_count": 26,
   "metadata": {},
   "outputs": [
    {
     "name": "stdout",
     "output_type": "stream",
     "text": [
      "Epoch 1/10\n",
      "651/651 [==============================] - 1s 961us/step - loss: 0.8778 - accuracy: 0.9555 - val_loss: 0.0425 - val_accuracy: 1.0000\n",
      "Epoch 2/10\n",
      "651/651 [==============================] - 1s 794us/step - loss: 0.0237 - accuracy: 0.9447 - val_loss: 0.0168 - val_accuracy: 0.8786\n",
      "Epoch 3/10\n",
      "651/651 [==============================] - 0s 760us/step - loss: 0.0134 - accuracy: 0.9048 - val_loss: 0.0094 - val_accuracy: 0.8771\n",
      "Epoch 4/10\n",
      "651/651 [==============================] - 1s 802us/step - loss: 0.0076 - accuracy: 0.8986 - val_loss: 0.0055 - val_accuracy: 0.8848\n",
      "Epoch 5/10\n",
      "651/651 [==============================] - 1s 776us/step - loss: 0.0047 - accuracy: 0.9002 - val_loss: 0.0038 - val_accuracy: 0.9293\n",
      "Epoch 6/10\n",
      "651/651 [==============================] - 1s 783us/step - loss: 0.0031 - accuracy: 0.8894 - val_loss: 0.0022 - val_accuracy: 0.8940\n",
      "Epoch 7/10\n",
      "651/651 [==============================] - 0s 763us/step - loss: 0.0023 - accuracy: 0.8909 - val_loss: 0.0023 - val_accuracy: 0.9048\n",
      "Epoch 8/10\n",
      "651/651 [==============================] - 1s 792us/step - loss: 0.0018 - accuracy: 0.9094 - val_loss: 0.0014 - val_accuracy: 0.8664\n",
      "Epoch 9/10\n",
      "651/651 [==============================] - 1s 785us/step - loss: 0.0014 - accuracy: 0.9094 - val_loss: 0.0011 - val_accuracy: 0.9032\n",
      "Epoch 10/10\n",
      "651/651 [==============================] - 1s 782us/step - loss: 0.0011 - accuracy: 0.8986 - val_loss: 8.1442e-04 - val_accuracy: 0.8971\n",
      "11/11 [==============================] - 0s 544us/step\n"
     ]
    },
    {
     "data": {
      "image/png": "[encoded data removed]",
      "text/plain": [
       "<Figure size 432x288 with 1 Axes>"
      ]
     },
     "metadata": {
      "needs_background": "light"
     },
     "output_type": "display_data"
    },
    {
     "data": {
      "image/png": "[encoded data removed]",
      "text/plain": [
       "<Figure size 432x288 with 1 Axes>"
      ]
     },
     "metadata": {
      "needs_background": "light"
     },
     "output_type": "display_data"
    }
   ],
   "source": [
    "# Keras API call\n",
    "model = Sequential()\n",
    "\n",
    "# Layers\n",
    "model.add(Dense(units=16, activation='linear', input_dim=16))\n",
    "model.add(Dense(units=16, activation='linear'))\n",
    "\n",
    "model.compile(optimizer='adam', loss='mean_squared_error', \\\n",
    "                metrics=['accuracy'])\n",
    "\n",
    "num_epochs = 10\n",
    "batch_size = 1\n",
    "\n",
    "history = model.fit( x= X_train_AE, y = X_train_AE, epochs=num_epochs, \\\n",
    "    batch_size=batch_size, shuffle=True, \\\n",
    "    validation_data=(X_train_AE, X_train_AE), verbose=1)\n",
    "\n",
    "predictions = model.predict(X_test, verbose=1)\n",
    "anomalyScoresAE = anomalyScores(X_test, predictions)\n",
    "preds, avgPrecision = plotResults(y_test, anomalyScoresAE, True)"
   ]
  },
  {
   "cell_type": "markdown",
   "metadata": {},
   "source": [
    "### Model No.2 - 2-Layer incomplete autoencode with linear activation"
   ]
  },
  {
   "cell_type": "code",
   "execution_count": null,
   "metadata": {},
   "outputs": [
    {
     "name": "stdout",
     "output_type": "stream",
     "text": [
      "Epoch 1/10\n",
      "  1/651 [..............................] - ETA: 0s - loss: 20.0133 - accuracy: 0.0000e+00WARNING:tensorflow:Callbacks method `on_train_batch_end` is slow compared to the batch time (batch time: 0.0000s vs `on_train_batch_end` time: 0.0010s). Check your callbacks.\n",
      "651/651 [==============================] - 1s 1ms/step - loss: 1.0861 - accuracy: 0.9278 - val_loss: 0.0345 - val_accuracy: 0.9539\n",
      "Epoch 2/10\n",
      "651/651 [==============================] - 1s 853us/step - loss: 0.0289 - accuracy: 0.9063 - val_loss: 0.0256 - val_accuracy: 0.8879\n",
      "Epoch 3/10\n",
      "651/651 [==============================] - 1s 891us/step - loss: 0.0212 - accuracy: 0.8940 - val_loss: 0.0182 - val_accuracy: 0.8940\n",
      "Epoch 4/10\n",
      "651/651 [==============================] - 1s 854us/step - loss: 0.0164 - accuracy: 0.8971 - val_loss: 0.0140 - val_accuracy: 0.8587\n",
      "Epoch 5/10\n",
      "651/651 [==============================] - 1s 846us/step - loss: 0.0127 - accuracy: 0.8848 - val_loss: 0.0121 - val_accuracy: 0.9140\n",
      "Epoch 6/10\n",
      "651/651 [==============================] - 1s 839us/step - loss: 0.0093 - accuracy: 0.9048 - val_loss: 0.0072 - val_accuracy: 0.8633\n",
      "Epoch 7/10\n",
      "651/651 [==============================] - 1s 855us/step - loss: 0.0066 - accuracy: 0.9002 - val_loss: 0.0048 - val_accuracy: 0.9155\n",
      "Epoch 8/10\n",
      "651/651 [==============================] - 1s 871us/step - loss: 0.0044 - accuracy: 0.9063 - val_loss: 0.0041 - val_accuracy: 0.9908\n",
      "Epoch 9/10\n",
      "651/651 [==============================] - 1s 831us/step - loss: 0.0031 - accuracy: 0.9140 - val_loss: 0.0024 - val_accuracy: 0.9416\n",
      "Epoch 10/10\n",
      "651/651 [==============================] - 1s 857us/step - loss: 0.0023 - accuracy: 0.9155 - val_loss: 0.0015 - val_accuracy: 0.8925\n",
      " 1/11 [=>............................] - ETA: 0sWARNING:tensorflow:Callbacks method `on_predict_batch_end` is slow compared to the batch time (batch time: 0.0000s vs `on_predict_batch_end` time: 0.0010s). Check your callbacks.\n",
      "11/11 [==============================] - 0s 544us/step\n"
     ]
    },
    {
     "data": {
      "image/png": "[encoded data removed]",
      "text/plain": [
       "<Figure size 432x288 with 1 Axes>"
      ]
     },
     "metadata": {
      "needs_background": "light"
     },
     "output_type": "display_data"
    },
    {
     "data": {
      "image/png": "[encoded data removed]",
      "text/plain": [
       "<Figure size 432x288 with 1 Axes>"
      ]
     },
     "metadata": {
      "needs_background": "light"
     },
     "output_type": "display_data"
    }
   ],
   "source": [
    "model = Sequential()\n",
    "\n",
    "# Layers\n",
    "model.add(Dense(units=15, activation='linear', input_dim=16))\n",
    "model.add(Dense(units=14, activation='linear'))\n",
    "model.add(Dense(units=16, activation='linear'))\n",
    "\n",
    "# Compile the model\n",
    "model.compile(optimizer='adam', loss='mean_squared_error', \\\n",
    "                metrics=['accuracy'])\n",
    "\n",
    "# Train the model\n",
    "num_epochs = 10\n",
    "batch_size = 1\n",
    "\n",
    "history = model.fit( x= X_train, y = X_train, epochs=num_epochs, \\\n",
    "    batch_size=batch_size, shuffle=True, \\\n",
    "    validation_data=(X_train, X_train), verbose=1)\n",
    "\n",
    "# Evaluate the model\n",
    "predictions = model.predict(X_test, verbose=1)\n",
    "anomalyScoresAE = anomalyScores(X_test, predictions)\n",
    "preds = plotResults(y_test, anomalyScoresAE, True)"
   ]
  },
  {
   "cell_type": "markdown",
   "metadata": {},
   "source": [
    "### Model No.3 - Non-linear autoencoder with ReLU activation"
   ]
  },
  {
   "cell_type": "code",
   "execution_count": 28,
   "metadata": {},
   "outputs": [
    {
     "name": "stdout",
     "output_type": "stream",
     "text": [
      "Epoch 1/10\n",
      "651/651 [==============================] - 1s 1ms/step - loss: 5.6117 - accuracy: 0.0000e+00 - val_loss: 5.5220 - val_accuracy: 0.0000e+00\n",
      "Epoch 2/10\n",
      "651/651 [==============================] - 1s 923us/step - loss: 4.8216 - accuracy: 0.1275 - val_loss: 0.1177 - val_accuracy: 1.0000\n",
      "Epoch 3/10\n",
      "651/651 [==============================] - 1s 901us/step - loss: 0.0486 - accuracy: 0.9432 - val_loss: 0.0426 - val_accuracy: 0.9631\n",
      "Epoch 4/10\n",
      "651/651 [==============================] - 1s 912us/step - loss: 0.0421 - accuracy: 0.9278 - val_loss: 0.0411 - val_accuracy: 0.9201\n",
      "Epoch 5/10\n",
      "651/651 [==============================] - 1s 915us/step - loss: 0.0414 - accuracy: 0.9386 - val_loss: 0.0409 - val_accuracy: 0.8833\n",
      "Epoch 6/10\n",
      "651/651 [==============================] - 1s 901us/step - loss: 0.0407 - accuracy: 0.9309 - val_loss: 0.0413 - val_accuracy: 0.8571\n",
      "Epoch 7/10\n",
      "651/651 [==============================] - 1s 925us/step - loss: 0.0401 - accuracy: 0.9324 - val_loss: 0.0397 - val_accuracy: 0.8740\n",
      "Epoch 8/10\n",
      "651/651 [==============================] - 1s 907us/step - loss: 0.0394 - accuracy: 0.9278 - val_loss: 0.0390 - val_accuracy: 0.8817\n",
      "Epoch 9/10\n",
      "651/651 [==============================] - 1s 891us/step - loss: 0.0390 - accuracy: 0.9370 - val_loss: 0.0389 - val_accuracy: 0.8602\n",
      "Epoch 10/10\n",
      "651/651 [==============================] - 1s 912us/step - loss: 0.0387 - accuracy: 0.9171 - val_loss: 0.0385 - val_accuracy: 0.9831\n",
      "11/11 [==============================] - 0s 510us/step\n"
     ]
    },
    {
     "data": {
      "image/png": "[encoded data removed]",
      "text/plain": [
       "<Figure size 432x288 with 1 Axes>"
      ]
     },
     "metadata": {
      "needs_background": "light"
     },
     "output_type": "display_data"
    },
    {
     "data": {
      "image/png": "[encoded data removed]",
      "text/plain": [
       "<Figure size 432x288 with 1 Axes>"
      ]
     },
     "metadata": {
      "needs_background": "light"
     },
     "output_type": "display_data"
    }
   ],
   "source": [
    "model = Sequential()\n",
    "\n",
    "# Layers\n",
    "model.add(Dense(units=15, activation='relu', input_dim=16))\n",
    "model.add(Dense(units=14, activation='relu'))\n",
    "model.add(Dense(units=15, activation='relu'))\n",
    "model.add(Dense(units=16, activation='relu'))\n",
    "\n",
    "# Compile the model\n",
    "model.compile(optimizer='adam', loss='mean_squared_error', \\\n",
    "                metrics=['accuracy'])\n",
    "\n",
    "# Train the model\n",
    "num_epochs = 10\n",
    "batch_size = 1\n",
    "\n",
    "history = model.fit( x= X_train, y = X_train, epochs=num_epochs, \\\n",
    "    batch_size=batch_size, shuffle=True, \\\n",
    "    validation_data=(X_train, X_train), verbose=1)\n",
    "\n",
    "# Evaluate the model\n",
    "predictions = model.predict(X_test, verbose=1)\n",
    "anomalyScoresAE = anomalyScores(X_test, predictions)\n",
    "preds = plotResults(y_test, anomalyScoresAE, True)"
   ]
  },
  {
   "cell_type": "code",
   "execution_count": null,
   "metadata": {},
   "outputs": [],
   "source": []
  }
 ],
 "metadata": {
  "kernelspec": {
   "display_name": "Python 3.8.5 ('base')",
   "language": "python",
   "name": "python3"
  },
  "language_info": {
   "codemirror_mode": {
    "name": "ipython",
    "version": 3
   },
   "file_extension": ".py",
   "mimetype": "text/x-python",
   "name": "python",
   "nbconvert_exporter": "python",
   "pygments_lexer": "ipython3",
   "version": "3.8.5"
  },
  "orig_nbformat": 4,
  "vscode": {
   "interpreter": {
    "hash": "f08154012ddadd8e950e6e9e035c7a7b32c136e7647e9b7c77e02eb723a8bedb"
   }
  }
 },
 "nbformat": 4,
 "nbformat_minor": 2
}
