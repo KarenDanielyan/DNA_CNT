{
 "cells": [
  {
   "cell_type": "markdown",
   "metadata": {},
   "source": [
    "### Imports"
   ]
  },
  {
   "cell_type": "code",
   "execution_count": 6,
   "metadata": {},
   "outputs": [],
   "source": [
    "#Imports\n",
    "import re\n",
    "import numpy as np\n",
    "import pandas as pd\n",
    "import sklearn.linear_model as lm\n",
    "from sklearn.model_selection import train_test_split\n",
    "from vectorization import hash_vectorizer\n",
    "from vectorization import vectorizer\n",
    "from vectorization import term_freq_vectorizer"
   ]
  },
  {
   "cell_type": "code",
   "execution_count": 7,
   "metadata": {},
   "outputs": [],
   "source": [
    "# Imports\n",
    "from sklearn.metrics import accuracy_score\n",
    "from sklearn.metrics import classification_report\n",
    "from sklearn.metrics import confusion_matrix\n",
    "from sklearn.metrics import plot_confusion_matrix\n",
    "from sklearn.metrics import ConfusionMatrixDisplay\n",
    "from sklearn.metrics import roc_curve, auc, precision_recall_curve, average_precision_score\n",
    "import matplotlib.pyplot as plt"
   ]
  },
  {
   "cell_type": "markdown",
   "metadata": {},
   "source": [
    "### Functions"
   ]
  },
  {
   "cell_type": "code",
   "execution_count": 8,
   "metadata": {},
   "outputs": [],
   "source": [
    "#Functions\n",
    "\n",
    "# One hot encoding ##############################\n",
    "\n",
    "def onehote(sequence):\n",
    "    mapping = {\"A\": 0, \"C\": 1, \"G\": 2, \"T\": 3}\n",
    "    seq2 = [mapping[i] for i in sequence]\n",
    "    return np.eye(4,dtype=int)[seq2]\n",
    "#One hot encoding on a list\n",
    "def seq_encoding(list):\n",
    "    return np.array([onehote(i) for i in list])\n",
    "#Dataframe column tolist().\n",
    "def toList(dataframe,column_name):\n",
    "    return dataframe[column_name].tolist()\n",
    "\n",
    "#################################################\n",
    "\n",
    "# One hot encoding on chirality #################\n",
    "\n",
    "#Get integers from chirality string\n",
    "def toInt(chirality_string):\n",
    "    buff = re.split(r\"[();]\",chirality_string)\n",
    "    return [int(buff[1]),int(buff[2])]\n",
    "\n",
    "#Get the chirality from the list of chirality strings\n",
    "def getChirality(chirality_list):\n",
    "    return np.array([toInt(i) for i in chirality_list])\n",
    "\n",
    "#Onehot encode the chirality number\n",
    "def onehot_chirality(number):\n",
    "    return np.eye(12,dtype=int)[number]\n",
    "#Onehot encode the chirality\n",
    "def extract_chirality(chirality):\n",
    "    return np.array([onehot_chirality(i) for i in chirality])\n",
    "#Apply onehot on the chirality list\n",
    "def apply_chirality(chirality_list):\n",
    "    return np.array([onehot_chirality(i) for i in chirality_list])\n",
    "\n",
    "#################################################\n",
    "\n",
    "# Misc ##########################################\n",
    "\n",
    "#Flatten the array\n",
    "def Flatten(list):\n",
    "    return np.array([list[i].flatten() for i in range(len(list))])\n",
    "\n",
    "#Make a tuple with index and value from a list\n",
    "def make_tuple(list):\n",
    "    return [(i+1,list[i]) for i in range(len(list))]\n",
    "#Make a tuple from two lists\n",
    "def make_tuple2(list1,list2):\n",
    "    if(len(list1) != len(list2)):\n",
    "        print(\"Error: Lists are not the same length\")\n",
    "        return None\n",
    "    return [(list1[i],list2[i]) for i in range(len(list1))]\n",
    "#################################################"
   ]
  },
  {
   "cell_type": "markdown",
   "metadata": {},
   "source": [
    "### Model"
   ]
  },
  {
   "cell_type": "code",
   "execution_count": 9,
   "metadata": {},
   "outputs": [],
   "source": [
    "def mymodel():\n",
    "    model = lm.LogisticRegression(multi_class='multinomial', solver='lbfgs', max_iter=1000)\n",
    "    return model"
   ]
  },
  {
   "cell_type": "markdown",
   "metadata": {},
   "source": [
    "### Data Import"
   ]
  },
  {
   "cell_type": "code",
   "execution_count": 10,
   "metadata": {},
   "outputs": [],
   "source": [
    "# Load the data\n",
    "set_raw = pd.read_csv('../Data/training_set.csv', low_memory=False)\n",
    "# Change 'N' and 'Y' to 0 and 1\n",
    "set_raw['Label'] = set_raw['Label'].apply(lambda x: 1 if x == 'Y' else 0)\n",
    "# Preprocess the data\n",
    "# Chirality\n",
    "chirality = getChirality(set_raw['Chirality'])\n",
    "chirality = pd.DataFrame(chirality, columns=['m','n'])"
   ]
  },
  {
   "cell_type": "code",
   "execution_count": 11,
   "metadata": {},
   "outputs": [],
   "source": [
    "# Chirality\n",
    "chirality = getChirality(set_raw['Chirality'])\n",
    "chirality = pd.DataFrame(chirality, columns=['m','n'])\n",
    "# # Change chiralities to parameter k = m-2n.\n",
    "# chirality['k'] = chirality['m'] - 2*chirality['n']\n",
    "# # Remove the chirality columns\n",
    "# chirality.drop(['m','n'], axis=1, inplace=True)\n"
   ]
  },
  {
   "cell_type": "markdown",
   "metadata": {},
   "source": [
    "### Count Vectorizer"
   ]
  },
  {
   "cell_type": "code",
   "execution_count": 12,
   "metadata": {},
   "outputs": [
    {
     "data": {
      "text/html": [
       "<div>\n",
       "<style scoped>\n",
       "    .dataframe tbody tr th:only-of-type {\n",
       "        vertical-align: middle;\n",
       "    }\n",
       "\n",
       "    .dataframe tbody tr th {\n",
       "        vertical-align: top;\n",
       "    }\n",
       "\n",
       "    .dataframe thead th {\n",
       "        text-align: right;\n",
       "    }\n",
       "</style>\n",
       "<table border=\"1\" class=\"dataframe\">\n",
       "  <thead>\n",
       "    <tr style=\"text-align: right;\">\n",
       "      <th></th>\n",
       "      <th>c</th>\n",
       "      <th>cc</th>\n",
       "      <th>ccc</th>\n",
       "      <th>cct</th>\n",
       "      <th>ct</th>\n",
       "      <th>ctc</th>\n",
       "      <th>ctt</th>\n",
       "      <th>t</th>\n",
       "      <th>tc</th>\n",
       "      <th>tcc</th>\n",
       "      <th>tct</th>\n",
       "      <th>tt</th>\n",
       "      <th>ttc</th>\n",
       "      <th>ttt</th>\n",
       "      <th>m</th>\n",
       "      <th>n</th>\n",
       "      <th>Label</th>\n",
       "    </tr>\n",
       "  </thead>\n",
       "  <tbody>\n",
       "    <tr>\n",
       "      <th>539</th>\n",
       "      <td>6</td>\n",
       "      <td>2</td>\n",
       "      <td>0</td>\n",
       "      <td>2</td>\n",
       "      <td>4</td>\n",
       "      <td>2</td>\n",
       "      <td>1</td>\n",
       "      <td>6</td>\n",
       "      <td>4</td>\n",
       "      <td>2</td>\n",
       "      <td>2</td>\n",
       "      <td>1</td>\n",
       "      <td>1</td>\n",
       "      <td>0</td>\n",
       "      <td>11</td>\n",
       "      <td>0</td>\n",
       "      <td>0</td>\n",
       "    </tr>\n",
       "    <tr>\n",
       "      <th>46</th>\n",
       "      <td>5</td>\n",
       "      <td>0</td>\n",
       "      <td>0</td>\n",
       "      <td>0</td>\n",
       "      <td>5</td>\n",
       "      <td>3</td>\n",
       "      <td>1</td>\n",
       "      <td>7</td>\n",
       "      <td>5</td>\n",
       "      <td>0</td>\n",
       "      <td>5</td>\n",
       "      <td>1</td>\n",
       "      <td>1</td>\n",
       "      <td>0</td>\n",
       "      <td>9</td>\n",
       "      <td>7</td>\n",
       "      <td>0</td>\n",
       "    </tr>\n",
       "    <tr>\n",
       "      <th>701</th>\n",
       "      <td>4</td>\n",
       "      <td>0</td>\n",
       "      <td>0</td>\n",
       "      <td>0</td>\n",
       "      <td>3</td>\n",
       "      <td>2</td>\n",
       "      <td>1</td>\n",
       "      <td>8</td>\n",
       "      <td>3</td>\n",
       "      <td>0</td>\n",
       "      <td>2</td>\n",
       "      <td>5</td>\n",
       "      <td>1</td>\n",
       "      <td>4</td>\n",
       "      <td>9</td>\n",
       "      <td>9</td>\n",
       "      <td>0</td>\n",
       "    </tr>\n",
       "    <tr>\n",
       "      <th>731</th>\n",
       "      <td>6</td>\n",
       "      <td>0</td>\n",
       "      <td>0</td>\n",
       "      <td>0</td>\n",
       "      <td>5</td>\n",
       "      <td>4</td>\n",
       "      <td>1</td>\n",
       "      <td>6</td>\n",
       "      <td>5</td>\n",
       "      <td>0</td>\n",
       "      <td>4</td>\n",
       "      <td>1</td>\n",
       "      <td>1</td>\n",
       "      <td>0</td>\n",
       "      <td>11</td>\n",
       "      <td>0</td>\n",
       "      <td>0</td>\n",
       "    </tr>\n",
       "    <tr>\n",
       "      <th>653</th>\n",
       "      <td>4</td>\n",
       "      <td>0</td>\n",
       "      <td>0</td>\n",
       "      <td>0</td>\n",
       "      <td>3</td>\n",
       "      <td>0</td>\n",
       "      <td>3</td>\n",
       "      <td>8</td>\n",
       "      <td>3</td>\n",
       "      <td>0</td>\n",
       "      <td>2</td>\n",
       "      <td>5</td>\n",
       "      <td>3</td>\n",
       "      <td>2</td>\n",
       "      <td>9</td>\n",
       "      <td>9</td>\n",
       "      <td>0</td>\n",
       "    </tr>\n",
       "  </tbody>\n",
       "</table>\n",
       "</div>"
      ],
      "text/plain": [
       "     c  cc  ccc  cct  ct  ctc  ctt  t  tc  tcc  tct  tt  ttc  ttt   m  n  \\\n",
       "539  6   2    0    2   4    2    1  6   4    2    2   1    1    0  11  0   \n",
       "46   5   0    0    0   5    3    1  7   5    0    5   1    1    0   9  7   \n",
       "701  4   0    0    0   3    2    1  8   3    0    2   5    1    4   9  9   \n",
       "731  6   0    0    0   5    4    1  6   5    0    4   1    1    0  11  0   \n",
       "653  4   0    0    0   3    0    3  8   3    0    2   5    3    2   9  9   \n",
       "\n",
       "     Label  \n",
       "539      0  \n",
       "46       0  \n",
       "701      0  \n",
       "731      0  \n",
       "653      0  "
      ]
     },
     "execution_count": 12,
     "metadata": {},
     "output_type": "execute_result"
    }
   ],
   "source": [
    "# Transform\n",
    "# Sequences\n",
    "seq = vectorizer.transform(set_raw['Sequence'])\n",
    "seq = pd.DataFrame(seq.toarray(), columns=vectorizer.get_feature_names_out())\n",
    "# Merge the dataframes\n",
    "set = pd.concat([seq,chirality,set_raw['Label']],axis=1)\n",
    "set.sample(5)"
   ]
  },
  {
   "cell_type": "code",
   "execution_count": 13,
   "metadata": {},
   "outputs": [
    {
     "data": {
      "text/plain": [
       "LogisticRegression(max_iter=1000, multi_class='multinomial')"
      ]
     },
     "execution_count": 13,
     "metadata": {},
     "output_type": "execute_result"
    }
   ],
   "source": [
    "# Train test split\n",
    "X_train, X_test, Y_train, Y_test = train_test_split(set.drop('Label',axis=1),\n",
    "                                                    set['Label'],\n",
    "                                                    test_size=0.2, shuffle=True,\n",
    "                                                    random_state=42)\n",
    "# Model training\n",
    "model = mymodel()\n",
    "model.fit(X_train,Y_train)"
   ]
  },
  {
   "cell_type": "code",
   "execution_count": 29,
   "metadata": {},
   "outputs": [
    {
     "name": "stdout",
     "output_type": "stream",
     "text": [
      "Accuracy of the model is: 0.9743589743589743\n"
     ]
    },
    {
     "data": {
      "image/png": "[encoded data removed]",
      "text/plain": [
       "<Figure size 720x432 with 2 Axes>"
      ]
     },
     "metadata": {
      "needs_background": "light"
     },
     "output_type": "display_data"
    }
   ],
   "source": [
    "predictions = model.predict(X_test)\n",
    "print('Accuracy of the model is: {}'.format(accuracy_score(Y_test, predictions)))\n",
    "matrix = ConfusionMatrixDisplay(confusion_matrix(Y_test, predictions))\n",
    "matrix.plot(cmap=plt.cm.Blues, include_values=True, xticks_rotation='vertical')\n",
    "plt.xlabel('Predicted Label', color = 'black')\n",
    "plt.ylabel('True Label', color = 'black')\n",
    "plt.gcf().axes[0].tick_params(colors = 'black')\n",
    "plt.gcf().axes[1].tick_params(colors = 'black')\n",
    "plt.gcf().set_size_inches(10,6)"
   ]
  },
  {
   "cell_type": "code",
   "execution_count": 28,
   "metadata": {},
   "outputs": [
    {
     "data": {
      "image/png": "[encoded data removed]",
      "text/plain": [
       "<Figure size 432x288 with 1 Axes>"
      ]
     },
     "metadata": {
      "needs_background": "light"
     },
     "output_type": "display_data"
    }
   ],
   "source": [
    "# ROC curve\n",
    "fpr, tpr, thresholds = roc_curve(Y_test, predictions)\n",
    "roc_auc = auc(fpr, tpr)\n",
    "plt.figure()\n",
    "plt.plot(fpr, tpr, color='darkorange', lw=2, label='ROC curve (area = %0.2f)' % roc_auc)\n",
    "#plt.plot([0, 1], [0, 1], color='navy', lw=3, linestyle=':')\n",
    "plt.xlim([0.0, 1.0])\n",
    "plt.ylim([0.0, 1.05])\n",
    "plt.xlabel('False Positive Rate')\n",
    "plt.ylabel('True Positive Rate')\n",
    "plt.title('Receiver operating Curve(Count Vectorizer)')\n",
    "plt.legend(loc=\"lower right\")\n",
    "plt.show()"
   ]
  },
  {
   "cell_type": "markdown",
   "metadata": {},
   "source": [
    "### Hash Vectorizer\n",
    "#### DO NOT RUN THIS CODE SNIPPET UNLESS YOU HAVE 16GB OF RAM"
   ]
  },
  {
   "cell_type": "code",
   "execution_count": 16,
   "metadata": {},
   "outputs": [],
   "source": [
    "# Transform\n",
    "# Sequences\n",
    "seq_hash = hash_vectorizer.transform(set_raw['Sequence'])\n",
    "seq_hash = pd.DataFrame(seq_hash.toarray())\n",
    "# Remove columns with all zeros\n",
    "seq_hash = seq_hash.loc[:, (seq_hash != 0).any(axis=0)]"
   ]
  },
  {
   "cell_type": "code",
   "execution_count": 17,
   "metadata": {},
   "outputs": [
    {
     "data": {
      "text/html": [
       "<div>\n",
       "<style scoped>\n",
       "    .dataframe tbody tr th:only-of-type {\n",
       "        vertical-align: middle;\n",
       "    }\n",
       "\n",
       "    .dataframe tbody tr th {\n",
       "        vertical-align: top;\n",
       "    }\n",
       "\n",
       "    .dataframe thead th {\n",
       "        text-align: right;\n",
       "    }\n",
       "</style>\n",
       "<table border=\"1\" class=\"dataframe\">\n",
       "  <thead>\n",
       "    <tr style=\"text-align: right;\">\n",
       "      <th></th>\n",
       "      <th>468425</th>\n",
       "      <th>532659</th>\n",
       "      <th>533825</th>\n",
       "      <th>539482</th>\n",
       "      <th>552695</th>\n",
       "      <th>694262</th>\n",
       "      <th>723874</th>\n",
       "      <th>772663</th>\n",
       "      <th>801063</th>\n",
       "      <th>811211</th>\n",
       "      <th>862625</th>\n",
       "      <th>992385</th>\n",
       "      <th>1023064</th>\n",
       "      <th>1038787</th>\n",
       "      <th>m</th>\n",
       "      <th>n</th>\n",
       "      <th>Label</th>\n",
       "    </tr>\n",
       "  </thead>\n",
       "  <tbody>\n",
       "    <tr>\n",
       "      <th>390</th>\n",
       "      <td>-0.178885</td>\n",
       "      <td>-0.536656</td>\n",
       "      <td>0.178885</td>\n",
       "      <td>-0.268328</td>\n",
       "      <td>-0.178885</td>\n",
       "      <td>-0.357771</td>\n",
       "      <td>0.178885</td>\n",
       "      <td>0.000000</td>\n",
       "      <td>0.000000</td>\n",
       "      <td>0.000000</td>\n",
       "      <td>-0.536656</td>\n",
       "      <td>0.178885</td>\n",
       "      <td>0.178885</td>\n",
       "      <td>-0.178885</td>\n",
       "      <td>7</td>\n",
       "      <td>3</td>\n",
       "      <td>0</td>\n",
       "    </tr>\n",
       "    <tr>\n",
       "      <th>60</th>\n",
       "      <td>-0.086711</td>\n",
       "      <td>-0.606977</td>\n",
       "      <td>0.000000</td>\n",
       "      <td>-0.173422</td>\n",
       "      <td>-0.086711</td>\n",
       "      <td>-0.086711</td>\n",
       "      <td>0.086711</td>\n",
       "      <td>-0.260133</td>\n",
       "      <td>-0.260133</td>\n",
       "      <td>0.086711</td>\n",
       "      <td>-0.433555</td>\n",
       "      <td>0.346844</td>\n",
       "      <td>0.000000</td>\n",
       "      <td>-0.346844</td>\n",
       "      <td>10</td>\n",
       "      <td>2</td>\n",
       "      <td>0</td>\n",
       "    </tr>\n",
       "    <tr>\n",
       "      <th>844</th>\n",
       "      <td>-0.163846</td>\n",
       "      <td>-0.327693</td>\n",
       "      <td>0.000000</td>\n",
       "      <td>0.000000</td>\n",
       "      <td>0.000000</td>\n",
       "      <td>-0.245770</td>\n",
       "      <td>0.163846</td>\n",
       "      <td>-0.327693</td>\n",
       "      <td>-0.163846</td>\n",
       "      <td>0.000000</td>\n",
       "      <td>-0.655386</td>\n",
       "      <td>0.327693</td>\n",
       "      <td>0.000000</td>\n",
       "      <td>-0.327693</td>\n",
       "      <td>9</td>\n",
       "      <td>6</td>\n",
       "      <td>0</td>\n",
       "    </tr>\n",
       "    <tr>\n",
       "      <th>477</th>\n",
       "      <td>-0.079809</td>\n",
       "      <td>-0.478852</td>\n",
       "      <td>0.000000</td>\n",
       "      <td>0.000000</td>\n",
       "      <td>0.000000</td>\n",
       "      <td>-0.079809</td>\n",
       "      <td>0.079809</td>\n",
       "      <td>-0.319235</td>\n",
       "      <td>-0.319235</td>\n",
       "      <td>0.000000</td>\n",
       "      <td>-0.478852</td>\n",
       "      <td>0.399043</td>\n",
       "      <td>0.000000</td>\n",
       "      <td>-0.399043</td>\n",
       "      <td>8</td>\n",
       "      <td>8</td>\n",
       "      <td>0</td>\n",
       "    </tr>\n",
       "    <tr>\n",
       "      <th>766</th>\n",
       "      <td>-0.240966</td>\n",
       "      <td>-0.321288</td>\n",
       "      <td>0.000000</td>\n",
       "      <td>0.000000</td>\n",
       "      <td>0.000000</td>\n",
       "      <td>-0.240966</td>\n",
       "      <td>0.240966</td>\n",
       "      <td>-0.321288</td>\n",
       "      <td>0.000000</td>\n",
       "      <td>0.000000</td>\n",
       "      <td>-0.642575</td>\n",
       "      <td>0.321288</td>\n",
       "      <td>0.000000</td>\n",
       "      <td>-0.321288</td>\n",
       "      <td>9</td>\n",
       "      <td>7</td>\n",
       "      <td>0</td>\n",
       "    </tr>\n",
       "  </tbody>\n",
       "</table>\n",
       "</div>"
      ],
      "text/plain": [
       "       468425    532659    533825    539482    552695    694262    723874  \\\n",
       "390 -0.178885 -0.536656  0.178885 -0.268328 -0.178885 -0.357771  0.178885   \n",
       "60  -0.086711 -0.606977  0.000000 -0.173422 -0.086711 -0.086711  0.086711   \n",
       "844 -0.163846 -0.327693  0.000000  0.000000  0.000000 -0.245770  0.163846   \n",
       "477 -0.079809 -0.478852  0.000000  0.000000  0.000000 -0.079809  0.079809   \n",
       "766 -0.240966 -0.321288  0.000000  0.000000  0.000000 -0.240966  0.240966   \n",
       "\n",
       "       772663    801063    811211    862625    992385   1023064   1038787   m  \\\n",
       "390  0.000000  0.000000  0.000000 -0.536656  0.178885  0.178885 -0.178885   7   \n",
       "60  -0.260133 -0.260133  0.086711 -0.433555  0.346844  0.000000 -0.346844  10   \n",
       "844 -0.327693 -0.163846  0.000000 -0.655386  0.327693  0.000000 -0.327693   9   \n",
       "477 -0.319235 -0.319235  0.000000 -0.478852  0.399043  0.000000 -0.399043   8   \n",
       "766 -0.321288  0.000000  0.000000 -0.642575  0.321288  0.000000 -0.321288   9   \n",
       "\n",
       "     n  Label  \n",
       "390  3      0  \n",
       "60   2      0  \n",
       "844  6      0  \n",
       "477  8      0  \n",
       "766  7      0  "
      ]
     },
     "execution_count": 17,
     "metadata": {},
     "output_type": "execute_result"
    }
   ],
   "source": [
    "# Merge the dataframes\n",
    "set_hash = pd.concat([seq_hash,chirality,set_raw['Label']],axis=1)\n",
    "set_hash.sample(5)"
   ]
  },
  {
   "cell_type": "code",
   "execution_count": 18,
   "metadata": {},
   "outputs": [
    {
     "name": "stderr",
     "output_type": "stream",
     "text": [
      "C:\\Users\\User\\anaconda3\\lib\\site-packages\\sklearn\\utils\\validation.py:1688: FutureWarning: Feature names only support names that are all strings. Got feature names with dtypes: ['int', 'str']. An error will be raised in 1.2.\n",
      "  warnings.warn(\n"
     ]
    },
    {
     "data": {
      "text/plain": [
       "LogisticRegression(max_iter=1000, multi_class='multinomial')"
      ]
     },
     "execution_count": 18,
     "metadata": {},
     "output_type": "execute_result"
    }
   ],
   "source": [
    "# Train test split\n",
    "X_train_hash, X_test_hash, Y_train_hash, Y_test_hash = train_test_split(set_hash.drop('Label',axis=1),\n",
    "                                                                                        set_hash['Label'],\n",
    "                                                                                        test_size=0.2,\n",
    "                                                                                        random_state=42)\n",
    "# Model training\n",
    "model_hash = mymodel()\n",
    "model_hash.fit(X_train_hash,Y_train_hash)"
   ]
  },
  {
   "cell_type": "code",
   "execution_count": 19,
   "metadata": {},
   "outputs": [
    {
     "name": "stderr",
     "output_type": "stream",
     "text": [
      "C:\\Users\\User\\anaconda3\\lib\\site-packages\\sklearn\\utils\\validation.py:1688: FutureWarning: Feature names only support names that are all strings. Got feature names with dtypes: ['int', 'str']. An error will be raised in 1.2.\n",
      "  warnings.warn(\n",
      "C:\\Users\\User\\anaconda3\\lib\\site-packages\\sklearn\\base.py:450: UserWarning: X does not have valid feature names, but LogisticRegression was fitted with feature names\n",
      "  warnings.warn(\n"
     ]
    },
    {
     "name": "stdout",
     "output_type": "stream",
     "text": [
      "Accurace of the model is: 0.9743589743589743\n"
     ]
    },
    {
     "data": {
      "image/png": "[encoded data removed]",
      "text/plain": [
       "<Figure size 720x432 with 2 Axes>"
      ]
     },
     "metadata": {
      "needs_background": "light"
     },
     "output_type": "display_data"
    }
   ],
   "source": [
    "predictions_hash = model.predict(X_test_hash)\n",
    "print('Accurace of the model is: {}'.format(accuracy_score(Y_test_hash, predictions)))\n",
    "matrix = ConfusionMatrixDisplay(confusion_matrix(Y_test_hash, predictions_hash))\n",
    "matrix.plot(cmap=plt.cm.Blues, include_values=True, xticks_rotation='vertical')\n",
    "plt.xlabel('Predicted Label', color = 'black')\n",
    "plt.ylabel('True Label', color = 'black')\n",
    "plt.gcf().axes[0].tick_params(colors = 'black')\n",
    "plt.gcf().axes[1].tick_params(colors = 'black')\n",
    "plt.gcf().set_size_inches(10,6)"
   ]
  },
  {
   "cell_type": "code",
   "execution_count": 20,
   "metadata": {},
   "outputs": [
    {
     "data": {
      "image/png": "[encoded data removed]",
      "text/plain": [
       "<Figure size 432x288 with 1 Axes>"
      ]
     },
     "metadata": {
      "needs_background": "light"
     },
     "output_type": "display_data"
    }
   ],
   "source": [
    "# ROC curve\n",
    "fpr, tpr, thresholds = roc_curve(Y_test_hash, predictions_hash)\n",
    "roc_auc = auc(fpr, tpr)\n",
    "plt.figure()\n",
    "plt.plot(fpr, tpr, color='darkorange', lw=2, label='ROC curve (area = %0.2f)' % roc_auc)\n",
    "plt.plot([0, 1], [0, 1], color='navy', lw=2, linestyle=':')\n",
    "plt.xlim([0.0, 1.0])\n",
    "plt.ylim([0.0, 1.05])\n",
    "plt.xlabel('False Positive Rate')\n",
    "plt.ylabel('True Positive Rate')\n",
    "plt.title('Receiver operating characteristic example')\n",
    "plt.legend(loc=\"lower right\")\n",
    "plt.show()"
   ]
  },
  {
   "cell_type": "markdown",
   "metadata": {},
   "source": [
    "### Tfidf Vectorizer"
   ]
  },
  {
   "cell_type": "code",
   "execution_count": 21,
   "metadata": {},
   "outputs": [
    {
     "data": {
      "text/html": [
       "<div>\n",
       "<style scoped>\n",
       "    .dataframe tbody tr th:only-of-type {\n",
       "        vertical-align: middle;\n",
       "    }\n",
       "\n",
       "    .dataframe tbody tr th {\n",
       "        vertical-align: top;\n",
       "    }\n",
       "\n",
       "    .dataframe thead th {\n",
       "        text-align: right;\n",
       "    }\n",
       "</style>\n",
       "<table border=\"1\" class=\"dataframe\">\n",
       "  <thead>\n",
       "    <tr style=\"text-align: right;\">\n",
       "      <th></th>\n",
       "      <th>c</th>\n",
       "      <th>cc</th>\n",
       "      <th>ccc</th>\n",
       "      <th>cct</th>\n",
       "      <th>ct</th>\n",
       "      <th>ctc</th>\n",
       "      <th>ctt</th>\n",
       "      <th>t</th>\n",
       "      <th>tc</th>\n",
       "      <th>tcc</th>\n",
       "      <th>tct</th>\n",
       "      <th>tt</th>\n",
       "      <th>ttc</th>\n",
       "      <th>ttt</th>\n",
       "      <th>m</th>\n",
       "      <th>n</th>\n",
       "      <th>Label</th>\n",
       "    </tr>\n",
       "  </thead>\n",
       "  <tbody>\n",
       "    <tr>\n",
       "      <th>0</th>\n",
       "      <td>0.371174</td>\n",
       "      <td>0.085089</td>\n",
       "      <td>0.0</td>\n",
       "      <td>0.09028</td>\n",
       "      <td>0.31172</td>\n",
       "      <td>0.371297</td>\n",
       "      <td>0.0</td>\n",
       "      <td>0.519644</td>\n",
       "      <td>0.302763</td>\n",
       "      <td>0.088509</td>\n",
       "      <td>0.418401</td>\n",
       "      <td>0.195654</td>\n",
       "      <td>0.099841</td>\n",
       "      <td>0.137737</td>\n",
       "      <td>10</td>\n",
       "      <td>2</td>\n",
       "      <td>0</td>\n",
       "    </tr>\n",
       "    <tr>\n",
       "      <th>1</th>\n",
       "      <td>0.371174</td>\n",
       "      <td>0.085089</td>\n",
       "      <td>0.0</td>\n",
       "      <td>0.09028</td>\n",
       "      <td>0.31172</td>\n",
       "      <td>0.371297</td>\n",
       "      <td>0.0</td>\n",
       "      <td>0.519644</td>\n",
       "      <td>0.302763</td>\n",
       "      <td>0.088509</td>\n",
       "      <td>0.418401</td>\n",
       "      <td>0.195654</td>\n",
       "      <td>0.099841</td>\n",
       "      <td>0.137737</td>\n",
       "      <td>10</td>\n",
       "      <td>3</td>\n",
       "      <td>0</td>\n",
       "    </tr>\n",
       "    <tr>\n",
       "      <th>2</th>\n",
       "      <td>0.371174</td>\n",
       "      <td>0.085089</td>\n",
       "      <td>0.0</td>\n",
       "      <td>0.09028</td>\n",
       "      <td>0.31172</td>\n",
       "      <td>0.371297</td>\n",
       "      <td>0.0</td>\n",
       "      <td>0.519644</td>\n",
       "      <td>0.302763</td>\n",
       "      <td>0.088509</td>\n",
       "      <td>0.418401</td>\n",
       "      <td>0.195654</td>\n",
       "      <td>0.099841</td>\n",
       "      <td>0.137737</td>\n",
       "      <td>11</td>\n",
       "      <td>1</td>\n",
       "      <td>0</td>\n",
       "    </tr>\n",
       "    <tr>\n",
       "      <th>3</th>\n",
       "      <td>0.371174</td>\n",
       "      <td>0.085089</td>\n",
       "      <td>0.0</td>\n",
       "      <td>0.09028</td>\n",
       "      <td>0.31172</td>\n",
       "      <td>0.371297</td>\n",
       "      <td>0.0</td>\n",
       "      <td>0.519644</td>\n",
       "      <td>0.302763</td>\n",
       "      <td>0.088509</td>\n",
       "      <td>0.418401</td>\n",
       "      <td>0.195654</td>\n",
       "      <td>0.099841</td>\n",
       "      <td>0.137737</td>\n",
       "      <td>8</td>\n",
       "      <td>5</td>\n",
       "      <td>0</td>\n",
       "    </tr>\n",
       "    <tr>\n",
       "      <th>4</th>\n",
       "      <td>0.371174</td>\n",
       "      <td>0.085089</td>\n",
       "      <td>0.0</td>\n",
       "      <td>0.09028</td>\n",
       "      <td>0.31172</td>\n",
       "      <td>0.371297</td>\n",
       "      <td>0.0</td>\n",
       "      <td>0.519644</td>\n",
       "      <td>0.302763</td>\n",
       "      <td>0.088509</td>\n",
       "      <td>0.418401</td>\n",
       "      <td>0.195654</td>\n",
       "      <td>0.099841</td>\n",
       "      <td>0.137737</td>\n",
       "      <td>9</td>\n",
       "      <td>6</td>\n",
       "      <td>0</td>\n",
       "    </tr>\n",
       "  </tbody>\n",
       "</table>\n",
       "</div>"
      ],
      "text/plain": [
       "          c        cc  ccc      cct       ct       ctc  ctt         t  \\\n",
       "0  0.371174  0.085089  0.0  0.09028  0.31172  0.371297  0.0  0.519644   \n",
       "1  0.371174  0.085089  0.0  0.09028  0.31172  0.371297  0.0  0.519644   \n",
       "2  0.371174  0.085089  0.0  0.09028  0.31172  0.371297  0.0  0.519644   \n",
       "3  0.371174  0.085089  0.0  0.09028  0.31172  0.371297  0.0  0.519644   \n",
       "4  0.371174  0.085089  0.0  0.09028  0.31172  0.371297  0.0  0.519644   \n",
       "\n",
       "         tc       tcc       tct        tt       ttc       ttt   m  n  Label  \n",
       "0  0.302763  0.088509  0.418401  0.195654  0.099841  0.137737  10  2      0  \n",
       "1  0.302763  0.088509  0.418401  0.195654  0.099841  0.137737  10  3      0  \n",
       "2  0.302763  0.088509  0.418401  0.195654  0.099841  0.137737  11  1      0  \n",
       "3  0.302763  0.088509  0.418401  0.195654  0.099841  0.137737   8  5      0  \n",
       "4  0.302763  0.088509  0.418401  0.195654  0.099841  0.137737   9  6      0  "
      ]
     },
     "execution_count": 21,
     "metadata": {},
     "output_type": "execute_result"
    }
   ],
   "source": [
    "# Transform\n",
    "# Sequences\n",
    "seq_tfidf = term_freq_vectorizer.transform(set_raw['Sequence'])\n",
    "seq_tfidf = pd.DataFrame(seq_tfidf.toarray(), columns=term_freq_vectorizer.get_feature_names_out())\n",
    "# Merge the dataframes\n",
    "set_tfidf = pd.concat([seq_tfidf,chirality,set_raw['Label']],axis=1)\n",
    "set_tfidf.head()"
   ]
  },
  {
   "cell_type": "code",
   "execution_count": 22,
   "metadata": {},
   "outputs": [
    {
     "data": {
      "text/plain": [
       "LogisticRegression(max_iter=1000, multi_class='multinomial')"
      ]
     },
     "execution_count": 22,
     "metadata": {},
     "output_type": "execute_result"
    }
   ],
   "source": [
    "# Train test split\n",
    "X_train_tfidf, X_test_tfidf, Y_train_tfidf, Y_test_tfidf = train_test_split(set_tfidf.drop('Label',axis=1),\n",
    "                                                                                        set_tfidf['Label'],\n",
    "                                                                                        test_size=0.2,\n",
    "                                                                                        random_state=42)\n",
    "# Model training\n",
    "model_tfidf = mymodel()\n",
    "model_tfidf.fit(X_train_tfidf,Y_train_tfidf)"
   ]
  },
  {
   "cell_type": "code",
   "execution_count": 23,
   "metadata": {},
   "outputs": [
    {
     "name": "stdout",
     "output_type": "stream",
     "text": [
      "Accurace of the model is: 0.9743589743589743\n"
     ]
    },
    {
     "data": {
      "image/png": "[encoded data removed]",
      "text/plain": [
       "<Figure size 720x432 with 2 Axes>"
      ]
     },
     "metadata": {
      "needs_background": "light"
     },
     "output_type": "display_data"
    }
   ],
   "source": [
    "predictions_tfidf = model.predict(X_test_tfidf)\n",
    "print('Accurace of the model is: {}'.format(accuracy_score(Y_test_tfidf, predictions)))\n",
    "matrix = ConfusionMatrixDisplay(confusion_matrix(Y_test_tfidf, predictions_tfidf))\n",
    "matrix.plot(cmap=plt.cm.Blues, include_values=True, xticks_rotation='vertical')\n",
    "plt.xlabel('Predicted Label', color = 'black')\n",
    "plt.ylabel('True Label', color = 'black')\n",
    "plt.gcf().axes[0].tick_params(colors = 'black')\n",
    "plt.gcf().axes[1].tick_params(colors = 'black')\n",
    "plt.gcf().set_size_inches(10,6)"
   ]
  },
  {
   "cell_type": "code",
   "execution_count": 24,
   "metadata": {},
   "outputs": [
    {
     "data": {
      "image/png": "[encoded data removed]",
      "text/plain": [
       "<Figure size 432x288 with 1 Axes>"
      ]
     },
     "metadata": {
      "needs_background": "light"
     },
     "output_type": "display_data"
    }
   ],
   "source": [
    "# ROC curve\n",
    "fpr, tpr, thresholds = roc_curve(Y_test_hash, predictions_tfidf)\n",
    "roc_auc = auc(fpr, tpr)\n",
    "plt.figure()\n",
    "plt.plot(fpr, tpr, color='darkorange', lw=2, label='ROC curve (area = %0.2f)' % roc_auc)\n",
    "plt.plot([0, 1], [0, 1], color='navy', lw=2, linestyle=':')\n",
    "plt.xlim([0.0, 1.0])\n",
    "plt.ylim([0.0, 1.05])\n",
    "plt.xlabel('False Positive Rate')\n",
    "plt.ylabel('True Positive Rate')\n",
    "plt.title('Receiver operating characteristic example')\n",
    "plt.legend(loc=\"lower right\")\n",
    "plt.show()"
   ]
  }
 ],
 "metadata": {
  "interpreter": {
   "hash": "8fac594bfae6525c0c41b4041d2d72effa188cc8ead05f81b1fab2bb098927fb"
  },
  "kernelspec": {
   "display_name": "Python 3.8.5 ('base')",
   "language": "python",
   "name": "python3"
  },
  "language_info": {
   "codemirror_mode": {
    "name": "ipython",
    "version": 3
   },
   "file_extension": ".py",
   "mimetype": "text/x-python",
   "name": "python",
   "nbconvert_exporter": "python",
   "pygments_lexer": "ipython3",
   "version": "3.8.5"
  },
  "orig_nbformat": 4
 },
 "nbformat": 4,
 "nbformat_minor": 2
}
