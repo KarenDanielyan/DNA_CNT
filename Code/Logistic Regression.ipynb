{
 "cells": [
  {
   "cell_type": "code",
   "execution_count": 116,
   "metadata": {},
   "outputs": [],
   "source": [
    "#Imports\n",
    "import re\n",
    "import numpy as np\n",
    "import pandas as pd\n",
    "import sklearn.linear_model as lm\n",
    "from sklearn.model_selection import train_test_split"
   ]
  },
  {
   "cell_type": "code",
   "execution_count": 58,
   "metadata": {},
   "outputs": [],
   "source": [
    "# Load the data\n",
    "set_raw = pd.read_csv('../Data/training_set.csv', low_memory=False)"
   ]
  },
  {
   "cell_type": "markdown",
   "metadata": {},
   "source": [
    "### Encoding and Writing into CSV"
   ]
  },
  {
   "cell_type": "code",
   "execution_count": 128,
   "metadata": {},
   "outputs": [],
   "source": [
    "#Recognition Sequences\n",
    "seq_raw = toList(set_raw,'Sequence')\n",
    "seq_encoded = extract_onehot(seq_raw)\n",
    "#Chiralities\n",
    "chirality_raw = toList(set_raw,'Chirality')\n",
    "extracted_chirality = getChirality(chirality_raw)\n",
    "chirality_encoded = apply_chirality(extracted_chirality)"
   ]
  },
  {
   "cell_type": "code",
   "execution_count": 110,
   "metadata": {},
   "outputs": [],
   "source": [
    "#Converting to Dictionary\n",
    "seq_dict = toDictionary(seq_encoded)\n",
    "chirality_dict = toDictionary(chirality_encoded)\n",
    "label_dict = toDictionary(set_raw['Label'])\n",
    "#Creating the dataframe\n",
    "encoded_dataset = pd.DataFrame({'Sequence':seq_dict,'Chirality':chirality_dict,'Label':label_dict})\n",
    "encoded_dataset.to_csv('../Data/encoded_dataset.csv')"
   ]
  },
  {
   "cell_type": "markdown",
   "metadata": {},
   "source": [
    "### Flat Dataset"
   ]
  },
  {
   "cell_type": "code",
   "execution_count": null,
   "metadata": {},
   "outputs": [],
   "source": [
    "#Flatten\n",
    "seq_enc_flat = Flatten(seq_encoded)\n",
    "chirality_enc_flat = Flatten(chirality_encoded)\n",
    "#Flat Dictionary\n",
    "seq_dict_flat = toDictionary(seq_enc_flat)\n",
    "chirality_dict_flat = toDictionary(chirality_enc_flat)\n",
    "#Creating the dataframe\n",
    "encoded_dataset_flat = pd.DataFrame({'Sequence':seq_dict_flat,'Chirality':chirality_dict_flat,'Label':set_raw['Label']})"
   ]
  },
  {
   "cell_type": "markdown",
   "metadata": {},
   "source": [
    "### Functions"
   ]
  },
  {
   "cell_type": "code",
   "execution_count": 142,
   "metadata": {},
   "outputs": [],
   "source": [
    "#One hot encoding function\n",
    "def onehote(sequence):\n",
    "    mapping = {\"A\": 0, \"C\": 1, \"G\": 2, \"T\": 3}\n",
    "    seq2 = [mapping[i] for i in sequence]\n",
    "    return np.eye(4,dtype=int)[seq2]\n",
    "\n",
    "#Converts the dataframe column to a list\n",
    "def toList(dataframe,column_name):\n",
    "    return dataframe[column_name].tolist()\n",
    "\n",
    "#Extracts the one hot encoded data from the sequence list\n",
    "def extract_onehot(sequence_list):\n",
    "    return np.array([onehote(i) for i in sequence_list])\n",
    "\n",
    "#Convert array to dictionary with indexes as keys\n",
    "def toDictionary(list):\n",
    "    return {i:list[i] for i in range(len(list))}\n",
    "\n",
    "#Get integers from chirality string\n",
    "def toInt(chirality_string):\n",
    "    buff = re.split(r\"[();]\",chirality_string)\n",
    "    return [int(buff[1]),int(buff[2])]\n",
    "\n",
    "#Get the chirality from the list of chirality strings\n",
    "def getChirality(chirality_list):\n",
    "    return [toInt(i) for i in chirality_list]\n",
    "\n",
    "#Onehot encode the chirality number\n",
    "def onehot_chirality(number):\n",
    "    return np.eye(12,dtype=int)[number]\n",
    "#Onehot encode the chirality\n",
    "def extract_chirality(chirality):\n",
    "    return np.array([onehot_chirality(i) for i in chirality])\n",
    "#Apply onehot on the chirality list\n",
    "def apply_chirality(chirality_list):\n",
    "    return np.array([onehot_chirality(i) for i in chirality_list])\n",
    "#Flatten\n",
    "def Flatten(list):\n",
    "    return [list[i].flatten() for i in range(len(list))]"
   ]
  },
  {
   "cell_type": "markdown",
   "metadata": {},
   "source": [
    "### Model Definition"
   ]
  },
  {
   "cell_type": "code",
   "execution_count": 113,
   "metadata": {},
   "outputs": [],
   "source": [
    "def mymodel():\n",
    "    model = lm.LogisticRegression(solver='lbfgs', max_iter=1000)\n",
    "    optimizer = Adam(learning_rate=0.00005) # 0.0099\n",
    "    model.compile(loss='mean_squared_error',optimizer=optimizer)\n",
    "    return model"
   ]
  },
  {
   "cell_type": "code",
   "execution_count": null,
   "metadata": {},
   "outputs": [],
   "source": [
    "#Train test split\n",
    "X_train, X_test, Y_train, Y_test = train_test_split(encoded_dataset.drop('Label',axis = 1),encoded_dataset['Label'],test_size=0.2,random_state=42)\n",
    "#Train the model\n",
    "model = lm.LogisticRegression(solver='lbfgs', max_iter=1000)\n",
    "model.fit(X_train,Y_train)"
   ]
  }
 ],
 "metadata": {
  "interpreter": {
   "hash": "8fac594bfae6525c0c41b4041d2d72effa188cc8ead05f81b1fab2bb098927fb"
  },
  "kernelspec": {
   "display_name": "Python 3.8.5 ('base')",
   "language": "python",
   "name": "python3"
  },
  "language_info": {
   "codemirror_mode": {
    "name": "ipython",
    "version": 3
   },
   "file_extension": ".py",
   "mimetype": "text/x-python",
   "name": "python",
   "nbconvert_exporter": "python",
   "pygments_lexer": "ipython3",
   "version": "3.8.5"
  },
  "orig_nbformat": 4
 },
 "nbformat": 4,
 "nbformat_minor": 2
}
