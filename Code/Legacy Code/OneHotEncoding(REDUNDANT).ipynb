{
 "cells": [
  {
   "cell_type": "markdown",
   "metadata": {},
   "source": [
    "#### Imports"
   ]
  },
  {
   "cell_type": "code",
   "execution_count": 1,
   "metadata": {},
   "outputs": [],
   "source": [
    "import numpy as np  # noqa\n",
    "import pandas as pd # noqa"
   ]
  },
  {
   "cell_type": "markdown",
   "metadata": {},
   "source": [
    "### Functions"
   ]
  },
  {
   "cell_type": "code",
   "execution_count": 61,
   "metadata": {},
   "outputs": [],
   "source": [
    "#One hot encoding function\n",
    "def onehote(sequence):\n",
    "    mapping = {\"A\": 0, \"C\": 1, \"G\": 2, \"T\": 3}\n",
    "    seq2 = [mapping[i] for i in sequence]\n",
    "    return np.eye(4,dtype=int)[seq2]\n",
    "\n",
    "#Converts the dataframe column to a list\n",
    "def toList(dataframe,column_name):\n",
    "    return dataframe[column_name].tolist()\n",
    "\n",
    "#Extracts the one hot encoded data from the sequence list\n",
    "def extract_onehot(sequence_list):\n",
    "    return np.array([onehote(i) for i in sequence_list])\n",
    "\n",
    "#Convert array to dictionary with indexes as keys\n",
    "def toDictionary(list):\n",
    "    return {i:list[i] for i in range(len(list))}\n",
    "    "
   ]
  },
  {
   "cell_type": "markdown",
   "metadata": {},
   "source": [
    "#### Opening dataset"
   ]
  },
  {
   "cell_type": "code",
   "execution_count": null,
   "metadata": {},
   "outputs": [],
   "source": [
    "seq_raw = pd.read_csv('../Data/testTC_12mer_1strun.csv',low_memory=False)\n",
    "seq_raw.rename(columns={'CCCCCCCCCCCT':'Sequence', '?' : 'Class'},inplace=True)\n",
    "seq_raw.append({'Sequence':'CCCCCCCCCCCT','Class':'?'},ignore_index=True)"
   ]
  },
  {
   "cell_type": "markdown",
   "metadata": {},
   "source": [
    "#### One Hot Encoding Script"
   ]
  },
  {
   "cell_type": "code",
   "execution_count": null,
   "metadata": {},
   "outputs": [],
   "source": [
    "sequence_list = toList(seq_raw,'Sequence')\n",
    "onehot_encoded = extract_onehot(sequence_list)"
   ]
  },
  {
   "cell_type": "markdown",
   "metadata": {},
   "source": [
    "#### Output Data to File"
   ]
  },
  {
   "cell_type": "code",
   "execution_count": 74,
   "metadata": {},
   "outputs": [],
   "source": [
    "#Converting to dictionay and creating a dataframe\n",
    "onehot_dict = toDictionary(onehot_encoded)\n",
    "encoded_df = pd.DataFrame({'Sequence':onehot_dict})\n",
    "#Writing dataframe to csv\n",
    "encoded_df.to_csv(r\"C:\\Users\\User\\Desktop\\DNA_CNT\\Processed Data\\One Hot Encoded Data\\testTC_12mer_1strun_ENC_onehot.csv\",index=False)"
   ]
  }
 ],
 "metadata": {
  "interpreter": {
   "hash": "57baa5815c940fdaff4d14510622de9616cae602444507ba5d0b6727c008cbd6"
  },
  "kernelspec": {
   "display_name": "Python 3.7.8 64-bit",
   "language": "python",
   "name": "python3"
  },
  "language_info": {
   "codemirror_mode": {
    "name": "ipython",
    "version": 3
   },
   "file_extension": ".py",
   "mimetype": "text/x-python",
   "name": "python",
   "nbconvert_exporter": "python",
   "pygments_lexer": "ipython3",
   "version": "3.8.5"
  },
  "orig_nbformat": 4
 },
 "nbformat": 4,
 "nbformat_minor": 2
}
