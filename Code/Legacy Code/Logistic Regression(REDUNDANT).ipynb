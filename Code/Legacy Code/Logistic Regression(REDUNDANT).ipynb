{
 "cells": [
  {
   "cell_type": "code",
   "execution_count": 2,
   "metadata": {},
   "outputs": [],
   "source": [
    "#Imports\n",
    "import re\n",
    "import numpy as np\n",
    "import pandas as pd\n",
    "import sklearn.linear_model as lm\n",
    "from sklearn.model_selection import train_test_split\n",
    "from sklear.preprocessing import OneHotEncoder"
   ]
  },
  {
   "cell_type": "code",
   "execution_count": 6,
   "metadata": {},
   "outputs": [],
   "source": [
    "# Load the data\n",
    "set_raw = pd.read_csv('../Data/training_set.csv', low_memory=False)"
   ]
  },
  {
   "cell_type": "markdown",
   "metadata": {},
   "source": [
    "### Encoding and Writing into CSV"
   ]
  },
  {
   "cell_type": "code",
   "execution_count": 7,
   "metadata": {},
   "outputs": [],
   "source": [
    "#Recognition Sequences\n",
    "seq_raw = toList(set_raw,'Sequence')\n",
    "seq_encoded = extract_onehot(seq_raw)\n",
    "#Chiralities\n",
    "chirality_raw = toList(set_raw,'Chirality')\n",
    "extracted_chirality = getChirality(chirality_raw)\n",
    "chirality_encoded = apply_chirality(extracted_chirality)"
   ]
  },
  {
   "cell_type": "code",
   "execution_count": 8,
   "metadata": {},
   "outputs": [],
   "source": [
    "#Converting to Dictionary\n",
    "seq_dict = toDictionary(seq_encoded)\n",
    "chirality_dict = toDictionary(chirality_encoded)\n",
    "label_dict = toDictionary(set_raw['Label'])\n",
    "#Creating the dataframe\n",
    "encoded_dataset = pd.DataFrame({'Sequence':seq_dict,'Chirality':chirality_dict,'Label':label_dict})\n",
    "encoded_dataset.to_csv('../Data/encoded_dataset.csv')"
   ]
  },
  {
   "cell_type": "markdown",
   "metadata": {},
   "source": [
    "### Binarized Dataset"
   ]
  },
  {
   "cell_type": "code",
   "execution_count": 98,
   "metadata": {},
   "outputs": [
    {
     "data": {
      "text/html": [
       "<div>\n",
       "<style scoped>\n",
       "    .dataframe tbody tr th:only-of-type {\n",
       "        vertical-align: middle;\n",
       "    }\n",
       "\n",
       "    .dataframe tbody tr th {\n",
       "        vertical-align: top;\n",
       "    }\n",
       "\n",
       "    .dataframe thead th {\n",
       "        text-align: right;\n",
       "    }\n",
       "</style>\n",
       "<table border=\"1\" class=\"dataframe\">\n",
       "  <thead>\n",
       "    <tr style=\"text-align: right;\">\n",
       "      <th></th>\n",
       "      <th>Sequence</th>\n",
       "      <th>Chirality</th>\n",
       "      <th>Label</th>\n",
       "    </tr>\n",
       "  </thead>\n",
       "  <tbody>\n",
       "    <tr>\n",
       "      <th>936</th>\n",
       "      <td>010001000100010000010100010000010100010001000100</td>\n",
       "      <td>000000000010001000000000</td>\n",
       "      <td>N</td>\n",
       "    </tr>\n",
       "    <tr>\n",
       "      <th>795</th>\n",
       "      <td>010001000001000100010001000100010001000101000100</td>\n",
       "      <td>000000001000000001000000</td>\n",
       "      <td>N</td>\n",
       "    </tr>\n",
       "    <tr>\n",
       "      <th>258</th>\n",
       "      <td>000100010001000101000100010001000001000100010001</td>\n",
       "      <td>000000010000000100000000</td>\n",
       "      <td>N</td>\n",
       "    </tr>\n",
       "    <tr>\n",
       "      <th>621</th>\n",
       "      <td>010000010001000100010100010000010001000100010100</td>\n",
       "      <td>000000001000000000001000</td>\n",
       "      <td>N</td>\n",
       "    </tr>\n",
       "    <tr>\n",
       "      <th>339</th>\n",
       "      <td>000100010100000101000001000101000001010000010001</td>\n",
       "      <td>000000001000000001000000</td>\n",
       "      <td>N</td>\n",
       "    </tr>\n",
       "    <tr>\n",
       "      <th>805</th>\n",
       "      <td>010001000001000100010100010000010001000101000100</td>\n",
       "      <td>000000000010000100000000</td>\n",
       "      <td>N</td>\n",
       "    </tr>\n",
       "    <tr>\n",
       "      <th>808</th>\n",
       "      <td>010001000001000100010100010000010001000101000100</td>\n",
       "      <td>000000000100000000100000</td>\n",
       "      <td>N</td>\n",
       "    </tr>\n",
       "    <tr>\n",
       "      <th>270</th>\n",
       "      <td>000100010001010000010001000100010100000100010001</td>\n",
       "      <td>000000010000000100000000</td>\n",
       "      <td>N</td>\n",
       "    </tr>\n",
       "    <tr>\n",
       "      <th>565</th>\n",
       "      <td>000101000100010000010100010000010100010001000001</td>\n",
       "      <td>000000000010000100000000</td>\n",
       "      <td>N</td>\n",
       "    </tr>\n",
       "    <tr>\n",
       "      <th>269</th>\n",
       "      <td>000100010001010000010001000100010100000100010001</td>\n",
       "      <td>000000000100000000000100</td>\n",
       "      <td>N</td>\n",
       "    </tr>\n",
       "  </tbody>\n",
       "</table>\n",
       "</div>"
      ],
      "text/plain": [
       "                                             Sequence  \\\n",
       "936  010001000100010000010100010000010100010001000100   \n",
       "795  010001000001000100010001000100010001000101000100   \n",
       "258  000100010001000101000100010001000001000100010001   \n",
       "621  010000010001000100010100010000010001000100010100   \n",
       "339  000100010100000101000001000101000001010000010001   \n",
       "805  010001000001000100010100010000010001000101000100   \n",
       "808  010001000001000100010100010000010001000101000100   \n",
       "270  000100010001010000010001000100010100000100010001   \n",
       "565  000101000100010000010100010000010100010001000001   \n",
       "269  000100010001010000010001000100010100000100010001   \n",
       "\n",
       "                    Chirality Label  \n",
       "936  000000000010001000000000     N  \n",
       "795  000000001000000001000000     N  \n",
       "258  000000010000000100000000     N  \n",
       "621  000000001000000000001000     N  \n",
       "339  000000001000000001000000     N  \n",
       "805  000000000010000100000000     N  \n",
       "808  000000000100000000100000     N  \n",
       "270  000000010000000100000000     N  \n",
       "565  000000000010000100000000     N  \n",
       "269  000000000100000000000100     N  "
      ]
     },
     "execution_count": 98,
     "metadata": {},
     "output_type": "execute_result"
    }
   ],
   "source": [
    "#Encoded Chiralities as string\n",
    "string_seq_enc = array_to_string(seq_enc_flat)\n",
    "string_chirality_enc = array_to_string(chirality_enc_flat)\n",
    "string_dataset = pd.DataFrame({'Sequence':toDictionary(string_seq_enc),'Chirality':toDictionary(string_chirality_enc),'Label':label_dict})\n",
    "string_dataset.sample(10)"
   ]
  },
  {
   "cell_type": "markdown",
   "metadata": {},
   "source": [
    "### Flat Dataset"
   ]
  },
  {
   "cell_type": "code",
   "execution_count": 11,
   "metadata": {},
   "outputs": [
    {
     "data": {
      "text/html": [
       "<div>\n",
       "<style scoped>\n",
       "    .dataframe tbody tr th:only-of-type {\n",
       "        vertical-align: middle;\n",
       "    }\n",
       "\n",
       "    .dataframe tbody tr th {\n",
       "        vertical-align: top;\n",
       "    }\n",
       "\n",
       "    .dataframe thead th {\n",
       "        text-align: right;\n",
       "    }\n",
       "</style>\n",
       "<table border=\"1\" class=\"dataframe\">\n",
       "  <thead>\n",
       "    <tr style=\"text-align: right;\">\n",
       "      <th></th>\n",
       "      <th>Sequence</th>\n",
       "      <th>Chirality</th>\n",
       "      <th>Label</th>\n",
       "    </tr>\n",
       "  </thead>\n",
       "  <tbody>\n",
       "    <tr>\n",
       "      <th>914</th>\n",
       "      <td>[0, 1, 0, 0, 0, 1, 0, 0, 0, 1, 0, 0, 0, 0, 0, ...</td>\n",
       "      <td>[0, 0, 0, 0, 0, 0, 0, 0, 0, 0, 0, 1, 0, 1, 0, ...</td>\n",
       "      <td>N</td>\n",
       "    </tr>\n",
       "    <tr>\n",
       "      <th>637</th>\n",
       "      <td>[0, 1, 0, 0, 0, 0, 0, 1, 0, 0, 0, 1, 0, 0, 0, ...</td>\n",
       "      <td>[0, 0, 0, 0, 0, 0, 0, 0, 0, 0, 1, 0, 0, 0, 0, ...</td>\n",
       "      <td>N</td>\n",
       "    </tr>\n",
       "    <tr>\n",
       "      <th>884</th>\n",
       "      <td>[0, 1, 0, 0, 0, 1, 0, 0, 0, 1, 0, 0, 0, 0, 0, ...</td>\n",
       "      <td>[0, 0, 0, 0, 0, 0, 0, 0, 0, 0, 0, 1, 0, 0, 1, ...</td>\n",
       "      <td>N</td>\n",
       "    </tr>\n",
       "    <tr>\n",
       "      <th>229</th>\n",
       "      <td>[0, 0, 0, 1, 0, 0, 0, 1, 0, 0, 0, 1, 0, 0, 0, ...</td>\n",
       "      <td>[0, 0, 0, 0, 0, 0, 0, 0, 0, 0, 1, 0, 0, 0, 0, ...</td>\n",
       "      <td>N</td>\n",
       "    </tr>\n",
       "    <tr>\n",
       "      <th>365</th>\n",
       "      <td>[0, 0, 0, 1, 0, 0, 0, 1, 0, 1, 0, 0, 0, 1, 0, ...</td>\n",
       "      <td>[0, 0, 0, 0, 0, 0, 0, 0, 0, 1, 0, 0, 0, 0, 0, ...</td>\n",
       "      <td>N</td>\n",
       "    </tr>\n",
       "  </tbody>\n",
       "</table>\n",
       "</div>"
      ],
      "text/plain": [
       "                                              Sequence  \\\n",
       "914  [0, 1, 0, 0, 0, 1, 0, 0, 0, 1, 0, 0, 0, 0, 0, ...   \n",
       "637  [0, 1, 0, 0, 0, 0, 0, 1, 0, 0, 0, 1, 0, 0, 0, ...   \n",
       "884  [0, 1, 0, 0, 0, 1, 0, 0, 0, 1, 0, 0, 0, 0, 0, ...   \n",
       "229  [0, 0, 0, 1, 0, 0, 0, 1, 0, 0, 0, 1, 0, 0, 0, ...   \n",
       "365  [0, 0, 0, 1, 0, 0, 0, 1, 0, 1, 0, 0, 0, 1, 0, ...   \n",
       "\n",
       "                                             Chirality Label  \n",
       "914  [0, 0, 0, 0, 0, 0, 0, 0, 0, 0, 0, 1, 0, 1, 0, ...     N  \n",
       "637  [0, 0, 0, 0, 0, 0, 0, 0, 0, 0, 1, 0, 0, 0, 0, ...     N  \n",
       "884  [0, 0, 0, 0, 0, 0, 0, 0, 0, 0, 0, 1, 0, 0, 1, ...     N  \n",
       "229  [0, 0, 0, 0, 0, 0, 0, 0, 0, 0, 1, 0, 0, 0, 0, ...     N  \n",
       "365  [0, 0, 0, 0, 0, 0, 0, 0, 0, 1, 0, 0, 0, 0, 0, ...     N  "
      ]
     },
     "execution_count": 11,
     "metadata": {},
     "output_type": "execute_result"
    }
   ],
   "source": [
    "#Flatten\n",
    "seq_enc_flat = Flatten(seq_encoded)\n",
    "chirality_enc_flat = Flatten(chirality_encoded)\n",
    "#Flat Dictionary\n",
    "seq_dict_flat = toDictionary(seq_enc_flat)\n",
    "chirality_dict_flat = toDictionary(chirality_enc_flat)\n",
    "#Creating the dataframe\n",
    "encoded_dataset_flat = pd.DataFrame({'Sequence':seq_dict_flat,'Chirality':chirality_dict_flat,'Label':set_raw['Label']})"
   ]
  },
  {
   "cell_type": "markdown",
   "metadata": {},
   "source": [
    "### Functions"
   ]
  },
  {
   "cell_type": "code",
   "execution_count": 92,
   "metadata": {},
   "outputs": [],
   "source": [
    "#One hot encoding function\n",
    "def onehote(sequence):\n",
    "    mapping = {\"A\": 0, \"C\": 1, \"G\": 2, \"T\": 3}\n",
    "    seq2 = [mapping[i] for i in sequence]\n",
    "    return np.eye(4,dtype=int)[seq2]\n",
    "\n",
    "#Converts the dataframe column to a list\n",
    "def toList(dataframe,column_name):\n",
    "    return dataframe[column_name].tolist()\n",
    "\n",
    "#Extracts the one hot encoded data from the sequence list\n",
    "def extract_onehot(sequence_list):\n",
    "    return np.array([onehote(i) for i in sequence_list])\n",
    "\n",
    "#Convert array to dictionary with indexes as keys\n",
    "def toDictionary(list):\n",
    "    return {i:list[i] for i in range(len(list))}\n",
    "\n",
    "#Get integers from chirality string\n",
    "def toInt(chirality_string):\n",
    "    buff = re.split(r\"[();]\",chirality_string)\n",
    "    return [int(buff[1]),int(buff[2])]\n",
    "\n",
    "#Get the chirality from the list of chirality strings\n",
    "def getChirality(chirality_list):\n",
    "    return [toInt(i) for i in chirality_list]\n",
    "\n",
    "#Onehot encode the chirality number\n",
    "def onehot_chirality(number):\n",
    "    return np.eye(12,dtype=int)[number]\n",
    "#Onehot encode the chirality\n",
    "def extract_chirality(chirality):\n",
    "    return np.array([onehot_chirality(i) for i in chirality])\n",
    "#Apply onehot on the chirality list\n",
    "def apply_chirality(chirality_list):\n",
    "    return np.array([onehot_chirality(i) for i in chirality_list])\n",
    "#Flatten\n",
    "def Flatten(list):\n",
    "    return [list[i].flatten() for i in range(len(list))]\n",
    "#Int array to string\n",
    "def int_to_string(int_array):\n",
    "    buff = np.array2string(int_array,separator='')\n",
    "    return buff.replace('[','').replace(']','')\n",
    "def array_to_string(int_array):\n",
    "    return np.array([int_to_string(i) for i in int_array])\n",
    "#Binarize string\n",
    "def binarize(string_array):\n",
    "    return np.array([int(i,base=2) for i in string_array])"
   ]
  },
  {
   "cell_type": "markdown",
   "metadata": {},
   "source": [
    "### Model Definition"
   ]
  }
 ],
 "metadata": {
  "interpreter": {
   "hash": "8fac594bfae6525c0c41b4041d2d72effa188cc8ead05f81b1fab2bb098927fb"
  },
  "kernelspec": {
   "display_name": "Python 3.8.5 ('base')",
   "language": "python",
   "name": "python3"
  },
  "language_info": {
   "codemirror_mode": {
    "name": "ipython",
    "version": 3
   },
   "file_extension": ".py",
   "mimetype": "text/x-python",
   "name": "python",
   "nbconvert_exporter": "python",
   "pygments_lexer": "ipython3",
   "version": "3.8.5"
  },
  "orig_nbformat": 4
 },
 "nbformat": 4,
 "nbformat_minor": 2
}
